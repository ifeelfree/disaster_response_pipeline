{
 "cells": [
  {
   "cell_type": "markdown",
   "metadata": {},
   "source": [
    "# ML Pipeline Preparation\n",
    "Follow the instructions below to help you create your ML pipeline.\n",
    "### 1. Import libraries and load data from database.\n",
    "- Import Python libraries\n",
    "- Load dataset from database with [`read_sql_table`](https://pandas.pydata.org/pandas-docs/stable/generated/pandas.read_sql_table.html)\n",
    "- Define feature and target variables X and Y"
   ]
  },
  {
   "cell_type": "code",
   "execution_count": 93,
   "metadata": {},
   "outputs": [
    {
     "name": "stderr",
     "output_type": "stream",
     "text": [
      "[nltk_data] Downloading package punkt to /root/nltk_data...\n",
      "[nltk_data]   Package punkt is already up-to-date!\n",
      "[nltk_data] Downloading package wordnet to /root/nltk_data...\n",
      "[nltk_data]   Package wordnet is already up-to-date!\n",
      "[nltk_data] Downloading package averaged_perceptron_tagger to\n",
      "[nltk_data]     /root/nltk_data...\n",
      "[nltk_data]   Package averaged_perceptron_tagger is already up-to-\n",
      "[nltk_data]       date!\n"
     ]
    },
    {
     "data": {
      "text/plain": [
       "True"
      ]
     },
     "execution_count": 93,
     "metadata": {},
     "output_type": "execute_result"
    }
   ],
   "source": [
    "# import libraries\n",
    "import nltk\n",
    "nltk.download('punkt')\n",
    "nltk.download('wordnet')\n",
    "nltk.download('averaged_perceptron_tagger')"
   ]
  },
  {
   "cell_type": "code",
   "execution_count": 94,
   "metadata": {},
   "outputs": [],
   "source": [
    "import numpy as np\n",
    "import pandas as pd\n",
    "import sys\n",
    "import os\n",
    "import re\n",
    "from sqlalchemy import create_engine\n",
    "import pickle\n",
    "from scipy.stats import gmean\n",
    "from sklearn.pipeline import Pipeline, FeatureUnion\n",
    "from sklearn.model_selection import train_test_split\n",
    "from sklearn.metrics import classification_report\n",
    "from sklearn.metrics import confusion_matrix\n",
    "from sklearn.metrics import fbeta_score, make_scorer\n",
    "from sklearn.ensemble import GradientBoostingClassifier, RandomForestClassifier, AdaBoostClassifier\n",
    "from sklearn.model_selection import GridSearchCV\n",
    "from sklearn.feature_extraction.text import TfidfTransformer, CountVectorizer\n",
    "from sklearn.multioutput import MultiOutputClassifier\n",
    "from sklearn.base import BaseEstimator,TransformerMixin"
   ]
  },
  {
   "cell_type": "code",
   "execution_count": 95,
   "metadata": {},
   "outputs": [
    {
     "data": {
      "text/html": [
       "<div>\n",
       "<style scoped>\n",
       "    .dataframe tbody tr th:only-of-type {\n",
       "        vertical-align: middle;\n",
       "    }\n",
       "\n",
       "    .dataframe tbody tr th {\n",
       "        vertical-align: top;\n",
       "    }\n",
       "\n",
       "    .dataframe thead th {\n",
       "        text-align: right;\n",
       "    }\n",
       "</style>\n",
       "<table border=\"1\" class=\"dataframe\">\n",
       "  <thead>\n",
       "    <tr style=\"text-align: right;\">\n",
       "      <th></th>\n",
       "      <th>id</th>\n",
       "      <th>message</th>\n",
       "      <th>original</th>\n",
       "      <th>genre</th>\n",
       "      <th>related</th>\n",
       "      <th>request</th>\n",
       "      <th>offer</th>\n",
       "      <th>aid_related</th>\n",
       "      <th>medical_help</th>\n",
       "      <th>medical_products</th>\n",
       "      <th>...</th>\n",
       "      <th>aid_centers</th>\n",
       "      <th>other_infrastructure</th>\n",
       "      <th>weather_related</th>\n",
       "      <th>floods</th>\n",
       "      <th>storm</th>\n",
       "      <th>fire</th>\n",
       "      <th>earthquake</th>\n",
       "      <th>cold</th>\n",
       "      <th>other_weather</th>\n",
       "      <th>direct_report</th>\n",
       "    </tr>\n",
       "  </thead>\n",
       "  <tbody>\n",
       "    <tr>\n",
       "      <th>0</th>\n",
       "      <td>2</td>\n",
       "      <td>Weather update - a cold front from Cuba that c...</td>\n",
       "      <td>Un front froid se retrouve sur Cuba ce matin. ...</td>\n",
       "      <td>direct</td>\n",
       "      <td>1</td>\n",
       "      <td>0</td>\n",
       "      <td>0</td>\n",
       "      <td>0</td>\n",
       "      <td>0</td>\n",
       "      <td>0</td>\n",
       "      <td>...</td>\n",
       "      <td>0</td>\n",
       "      <td>0</td>\n",
       "      <td>0</td>\n",
       "      <td>0</td>\n",
       "      <td>0</td>\n",
       "      <td>0</td>\n",
       "      <td>0</td>\n",
       "      <td>0</td>\n",
       "      <td>0</td>\n",
       "      <td>0</td>\n",
       "    </tr>\n",
       "    <tr>\n",
       "      <th>1</th>\n",
       "      <td>7</td>\n",
       "      <td>Is the Hurricane over or is it not over</td>\n",
       "      <td>Cyclone nan fini osinon li pa fini</td>\n",
       "      <td>direct</td>\n",
       "      <td>1</td>\n",
       "      <td>0</td>\n",
       "      <td>0</td>\n",
       "      <td>1</td>\n",
       "      <td>0</td>\n",
       "      <td>0</td>\n",
       "      <td>...</td>\n",
       "      <td>0</td>\n",
       "      <td>0</td>\n",
       "      <td>1</td>\n",
       "      <td>0</td>\n",
       "      <td>1</td>\n",
       "      <td>0</td>\n",
       "      <td>0</td>\n",
       "      <td>0</td>\n",
       "      <td>0</td>\n",
       "      <td>0</td>\n",
       "    </tr>\n",
       "    <tr>\n",
       "      <th>2</th>\n",
       "      <td>8</td>\n",
       "      <td>Looking for someone but no name</td>\n",
       "      <td>Patnm, di Maryani relem pou li banm nouvel li ...</td>\n",
       "      <td>direct</td>\n",
       "      <td>1</td>\n",
       "      <td>0</td>\n",
       "      <td>0</td>\n",
       "      <td>0</td>\n",
       "      <td>0</td>\n",
       "      <td>0</td>\n",
       "      <td>...</td>\n",
       "      <td>0</td>\n",
       "      <td>0</td>\n",
       "      <td>0</td>\n",
       "      <td>0</td>\n",
       "      <td>0</td>\n",
       "      <td>0</td>\n",
       "      <td>0</td>\n",
       "      <td>0</td>\n",
       "      <td>0</td>\n",
       "      <td>0</td>\n",
       "    </tr>\n",
       "  </tbody>\n",
       "</table>\n",
       "<p>3 rows × 40 columns</p>\n",
       "</div>"
      ],
      "text/plain": [
       "   id                                            message  \\\n",
       "0   2  Weather update - a cold front from Cuba that c...   \n",
       "1   7            Is the Hurricane over or is it not over   \n",
       "2   8                    Looking for someone but no name   \n",
       "\n",
       "                                            original   genre  related  \\\n",
       "0  Un front froid se retrouve sur Cuba ce matin. ...  direct        1   \n",
       "1                 Cyclone nan fini osinon li pa fini  direct        1   \n",
       "2  Patnm, di Maryani relem pou li banm nouvel li ...  direct        1   \n",
       "\n",
       "   request  offer  aid_related  medical_help  medical_products  ...  \\\n",
       "0        0      0            0             0                 0  ...   \n",
       "1        0      0            1             0                 0  ...   \n",
       "2        0      0            0             0                 0  ...   \n",
       "\n",
       "   aid_centers  other_infrastructure  weather_related  floods  storm  fire  \\\n",
       "0            0                     0                0       0      0     0   \n",
       "1            0                     0                1       0      1     0   \n",
       "2            0                     0                0       0      0     0   \n",
       "\n",
       "   earthquake  cold  other_weather  direct_report  \n",
       "0           0     0              0              0  \n",
       "1           0     0              0              0  \n",
       "2           0     0              0              0  \n",
       "\n",
       "[3 rows x 40 columns]"
      ]
     },
     "execution_count": 95,
     "metadata": {},
     "output_type": "execute_result"
    }
   ],
   "source": [
    "# load data from database\n",
    "database_name = \"../data/DisasterResponse.db\"\n",
    "table_name = \"disaster_response_table\"\n",
    "engine = create_engine('sqlite:///'+database_name)\n",
    "df = pd.read_sql_table(table_name, engine)\n",
    "df.head(3)"
   ]
  },
  {
   "cell_type": "code",
   "execution_count": 96,
   "metadata": {},
   "outputs": [
    {
     "name": "stdout",
     "output_type": "stream",
     "text": [
      "<class 'pandas.core.frame.DataFrame'>\n",
      "RangeIndex: 26216 entries, 0 to 26215\n",
      "Data columns (total 40 columns):\n",
      " #   Column                  Non-Null Count  Dtype \n",
      "---  ------                  --------------  ----- \n",
      " 0   id                      26216 non-null  int64 \n",
      " 1   message                 26216 non-null  object\n",
      " 2   original                10170 non-null  object\n",
      " 3   genre                   26216 non-null  object\n",
      " 4   related                 26216 non-null  int64 \n",
      " 5   request                 26216 non-null  int64 \n",
      " 6   offer                   26216 non-null  int64 \n",
      " 7   aid_related             26216 non-null  int64 \n",
      " 8   medical_help            26216 non-null  int64 \n",
      " 9   medical_products        26216 non-null  int64 \n",
      " 10  search_and_rescue       26216 non-null  int64 \n",
      " 11  security                26216 non-null  int64 \n",
      " 12  military                26216 non-null  int64 \n",
      " 13  child_alone             26216 non-null  int64 \n",
      " 14  water                   26216 non-null  int64 \n",
      " 15  food                    26216 non-null  int64 \n",
      " 16  shelter                 26216 non-null  int64 \n",
      " 17  clothing                26216 non-null  int64 \n",
      " 18  money                   26216 non-null  int64 \n",
      " 19  missing_people          26216 non-null  int64 \n",
      " 20  refugees                26216 non-null  int64 \n",
      " 21  death                   26216 non-null  int64 \n",
      " 22  other_aid               26216 non-null  int64 \n",
      " 23  infrastructure_related  26216 non-null  int64 \n",
      " 24  transport               26216 non-null  int64 \n",
      " 25  buildings               26216 non-null  int64 \n",
      " 26  electricity             26216 non-null  int64 \n",
      " 27  tools                   26216 non-null  int64 \n",
      " 28  hospitals               26216 non-null  int64 \n",
      " 29  shops                   26216 non-null  int64 \n",
      " 30  aid_centers             26216 non-null  int64 \n",
      " 31  other_infrastructure    26216 non-null  int64 \n",
      " 32  weather_related         26216 non-null  int64 \n",
      " 33  floods                  26216 non-null  int64 \n",
      " 34  storm                   26216 non-null  int64 \n",
      " 35  fire                    26216 non-null  int64 \n",
      " 36  earthquake              26216 non-null  int64 \n",
      " 37  cold                    26216 non-null  int64 \n",
      " 38  other_weather           26216 non-null  int64 \n",
      " 39  direct_report           26216 non-null  int64 \n",
      "dtypes: int64(37), object(3)\n",
      "memory usage: 8.0+ MB\n"
     ]
    }
   ],
   "source": [
    "df.info()"
   ]
  },
  {
   "cell_type": "code",
   "execution_count": 97,
   "metadata": {},
   "outputs": [
    {
     "data": {
      "text/plain": [
       "Index(['id', 'message', 'original', 'genre', 'related', 'request', 'offer',\n",
       "       'aid_related', 'medical_help', 'medical_products', 'search_and_rescue',\n",
       "       'security', 'military', 'child_alone', 'water', 'food', 'shelter',\n",
       "       'clothing', 'money', 'missing_people', 'refugees', 'death', 'other_aid',\n",
       "       'infrastructure_related', 'transport', 'buildings', 'electricity',\n",
       "       'tools', 'hospitals', 'shops', 'aid_centers', 'other_infrastructure',\n",
       "       'weather_related', 'floods', 'storm', 'fire', 'earthquake', 'cold',\n",
       "       'other_weather', 'direct_report'],\n",
       "      dtype='object')"
      ]
     },
     "execution_count": 97,
     "metadata": {},
     "output_type": "execute_result"
    }
   ],
   "source": [
    "df.columns"
   ]
  },
  {
   "cell_type": "code",
   "execution_count": 98,
   "metadata": {},
   "outputs": [
    {
     "data": {
      "text/html": [
       "<div>\n",
       "<style scoped>\n",
       "    .dataframe tbody tr th:only-of-type {\n",
       "        vertical-align: middle;\n",
       "    }\n",
       "\n",
       "    .dataframe tbody tr th {\n",
       "        vertical-align: top;\n",
       "    }\n",
       "\n",
       "    .dataframe thead th {\n",
       "        text-align: right;\n",
       "    }\n",
       "</style>\n",
       "<table border=\"1\" class=\"dataframe\">\n",
       "  <thead>\n",
       "    <tr style=\"text-align: right;\">\n",
       "      <th></th>\n",
       "      <th>id</th>\n",
       "      <th>related</th>\n",
       "      <th>request</th>\n",
       "      <th>offer</th>\n",
       "      <th>aid_related</th>\n",
       "      <th>medical_help</th>\n",
       "      <th>medical_products</th>\n",
       "      <th>search_and_rescue</th>\n",
       "      <th>security</th>\n",
       "      <th>military</th>\n",
       "      <th>...</th>\n",
       "      <th>aid_centers</th>\n",
       "      <th>other_infrastructure</th>\n",
       "      <th>weather_related</th>\n",
       "      <th>floods</th>\n",
       "      <th>storm</th>\n",
       "      <th>fire</th>\n",
       "      <th>earthquake</th>\n",
       "      <th>cold</th>\n",
       "      <th>other_weather</th>\n",
       "      <th>direct_report</th>\n",
       "    </tr>\n",
       "  </thead>\n",
       "  <tbody>\n",
       "    <tr>\n",
       "      <th>count</th>\n",
       "      <td>26216.00000</td>\n",
       "      <td>26216.000000</td>\n",
       "      <td>26216.000000</td>\n",
       "      <td>26216.000000</td>\n",
       "      <td>26216.000000</td>\n",
       "      <td>26216.000000</td>\n",
       "      <td>26216.000000</td>\n",
       "      <td>26216.000000</td>\n",
       "      <td>26216.000000</td>\n",
       "      <td>26216.000000</td>\n",
       "      <td>...</td>\n",
       "      <td>26216.000000</td>\n",
       "      <td>26216.000000</td>\n",
       "      <td>26216.000000</td>\n",
       "      <td>26216.000000</td>\n",
       "      <td>26216.000000</td>\n",
       "      <td>26216.000000</td>\n",
       "      <td>26216.000000</td>\n",
       "      <td>26216.000000</td>\n",
       "      <td>26216.000000</td>\n",
       "      <td>26216.000000</td>\n",
       "    </tr>\n",
       "    <tr>\n",
       "      <th>mean</th>\n",
       "      <td>15224.82133</td>\n",
       "      <td>0.773650</td>\n",
       "      <td>0.170659</td>\n",
       "      <td>0.004501</td>\n",
       "      <td>0.414251</td>\n",
       "      <td>0.079493</td>\n",
       "      <td>0.050084</td>\n",
       "      <td>0.027617</td>\n",
       "      <td>0.017966</td>\n",
       "      <td>0.032804</td>\n",
       "      <td>...</td>\n",
       "      <td>0.011787</td>\n",
       "      <td>0.043904</td>\n",
       "      <td>0.278341</td>\n",
       "      <td>0.082202</td>\n",
       "      <td>0.093187</td>\n",
       "      <td>0.010757</td>\n",
       "      <td>0.093645</td>\n",
       "      <td>0.020217</td>\n",
       "      <td>0.052487</td>\n",
       "      <td>0.193584</td>\n",
       "    </tr>\n",
       "    <tr>\n",
       "      <th>std</th>\n",
       "      <td>8826.88914</td>\n",
       "      <td>0.435276</td>\n",
       "      <td>0.376218</td>\n",
       "      <td>0.066940</td>\n",
       "      <td>0.492602</td>\n",
       "      <td>0.270513</td>\n",
       "      <td>0.218122</td>\n",
       "      <td>0.163875</td>\n",
       "      <td>0.132831</td>\n",
       "      <td>0.178128</td>\n",
       "      <td>...</td>\n",
       "      <td>0.107927</td>\n",
       "      <td>0.204887</td>\n",
       "      <td>0.448191</td>\n",
       "      <td>0.274677</td>\n",
       "      <td>0.290700</td>\n",
       "      <td>0.103158</td>\n",
       "      <td>0.291340</td>\n",
       "      <td>0.140743</td>\n",
       "      <td>0.223011</td>\n",
       "      <td>0.395114</td>\n",
       "    </tr>\n",
       "    <tr>\n",
       "      <th>min</th>\n",
       "      <td>2.00000</td>\n",
       "      <td>0.000000</td>\n",
       "      <td>0.000000</td>\n",
       "      <td>0.000000</td>\n",
       "      <td>0.000000</td>\n",
       "      <td>0.000000</td>\n",
       "      <td>0.000000</td>\n",
       "      <td>0.000000</td>\n",
       "      <td>0.000000</td>\n",
       "      <td>0.000000</td>\n",
       "      <td>...</td>\n",
       "      <td>0.000000</td>\n",
       "      <td>0.000000</td>\n",
       "      <td>0.000000</td>\n",
       "      <td>0.000000</td>\n",
       "      <td>0.000000</td>\n",
       "      <td>0.000000</td>\n",
       "      <td>0.000000</td>\n",
       "      <td>0.000000</td>\n",
       "      <td>0.000000</td>\n",
       "      <td>0.000000</td>\n",
       "    </tr>\n",
       "    <tr>\n",
       "      <th>25%</th>\n",
       "      <td>7446.75000</td>\n",
       "      <td>1.000000</td>\n",
       "      <td>0.000000</td>\n",
       "      <td>0.000000</td>\n",
       "      <td>0.000000</td>\n",
       "      <td>0.000000</td>\n",
       "      <td>0.000000</td>\n",
       "      <td>0.000000</td>\n",
       "      <td>0.000000</td>\n",
       "      <td>0.000000</td>\n",
       "      <td>...</td>\n",
       "      <td>0.000000</td>\n",
       "      <td>0.000000</td>\n",
       "      <td>0.000000</td>\n",
       "      <td>0.000000</td>\n",
       "      <td>0.000000</td>\n",
       "      <td>0.000000</td>\n",
       "      <td>0.000000</td>\n",
       "      <td>0.000000</td>\n",
       "      <td>0.000000</td>\n",
       "      <td>0.000000</td>\n",
       "    </tr>\n",
       "    <tr>\n",
       "      <th>50%</th>\n",
       "      <td>15662.50000</td>\n",
       "      <td>1.000000</td>\n",
       "      <td>0.000000</td>\n",
       "      <td>0.000000</td>\n",
       "      <td>0.000000</td>\n",
       "      <td>0.000000</td>\n",
       "      <td>0.000000</td>\n",
       "      <td>0.000000</td>\n",
       "      <td>0.000000</td>\n",
       "      <td>0.000000</td>\n",
       "      <td>...</td>\n",
       "      <td>0.000000</td>\n",
       "      <td>0.000000</td>\n",
       "      <td>0.000000</td>\n",
       "      <td>0.000000</td>\n",
       "      <td>0.000000</td>\n",
       "      <td>0.000000</td>\n",
       "      <td>0.000000</td>\n",
       "      <td>0.000000</td>\n",
       "      <td>0.000000</td>\n",
       "      <td>0.000000</td>\n",
       "    </tr>\n",
       "    <tr>\n",
       "      <th>75%</th>\n",
       "      <td>22924.25000</td>\n",
       "      <td>1.000000</td>\n",
       "      <td>0.000000</td>\n",
       "      <td>0.000000</td>\n",
       "      <td>1.000000</td>\n",
       "      <td>0.000000</td>\n",
       "      <td>0.000000</td>\n",
       "      <td>0.000000</td>\n",
       "      <td>0.000000</td>\n",
       "      <td>0.000000</td>\n",
       "      <td>...</td>\n",
       "      <td>0.000000</td>\n",
       "      <td>0.000000</td>\n",
       "      <td>1.000000</td>\n",
       "      <td>0.000000</td>\n",
       "      <td>0.000000</td>\n",
       "      <td>0.000000</td>\n",
       "      <td>0.000000</td>\n",
       "      <td>0.000000</td>\n",
       "      <td>0.000000</td>\n",
       "      <td>0.000000</td>\n",
       "    </tr>\n",
       "    <tr>\n",
       "      <th>max</th>\n",
       "      <td>30265.00000</td>\n",
       "      <td>2.000000</td>\n",
       "      <td>1.000000</td>\n",
       "      <td>1.000000</td>\n",
       "      <td>1.000000</td>\n",
       "      <td>1.000000</td>\n",
       "      <td>1.000000</td>\n",
       "      <td>1.000000</td>\n",
       "      <td>1.000000</td>\n",
       "      <td>1.000000</td>\n",
       "      <td>...</td>\n",
       "      <td>1.000000</td>\n",
       "      <td>1.000000</td>\n",
       "      <td>1.000000</td>\n",
       "      <td>1.000000</td>\n",
       "      <td>1.000000</td>\n",
       "      <td>1.000000</td>\n",
       "      <td>1.000000</td>\n",
       "      <td>1.000000</td>\n",
       "      <td>1.000000</td>\n",
       "      <td>1.000000</td>\n",
       "    </tr>\n",
       "  </tbody>\n",
       "</table>\n",
       "<p>8 rows × 37 columns</p>\n",
       "</div>"
      ],
      "text/plain": [
       "                id       related       request         offer   aid_related  \\\n",
       "count  26216.00000  26216.000000  26216.000000  26216.000000  26216.000000   \n",
       "mean   15224.82133      0.773650      0.170659      0.004501      0.414251   \n",
       "std     8826.88914      0.435276      0.376218      0.066940      0.492602   \n",
       "min        2.00000      0.000000      0.000000      0.000000      0.000000   \n",
       "25%     7446.75000      1.000000      0.000000      0.000000      0.000000   \n",
       "50%    15662.50000      1.000000      0.000000      0.000000      0.000000   \n",
       "75%    22924.25000      1.000000      0.000000      0.000000      1.000000   \n",
       "max    30265.00000      2.000000      1.000000      1.000000      1.000000   \n",
       "\n",
       "       medical_help  medical_products  search_and_rescue      security  \\\n",
       "count  26216.000000      26216.000000       26216.000000  26216.000000   \n",
       "mean       0.079493          0.050084           0.027617      0.017966   \n",
       "std        0.270513          0.218122           0.163875      0.132831   \n",
       "min        0.000000          0.000000           0.000000      0.000000   \n",
       "25%        0.000000          0.000000           0.000000      0.000000   \n",
       "50%        0.000000          0.000000           0.000000      0.000000   \n",
       "75%        0.000000          0.000000           0.000000      0.000000   \n",
       "max        1.000000          1.000000           1.000000      1.000000   \n",
       "\n",
       "           military  ...   aid_centers  other_infrastructure  weather_related  \\\n",
       "count  26216.000000  ...  26216.000000          26216.000000     26216.000000   \n",
       "mean       0.032804  ...      0.011787              0.043904         0.278341   \n",
       "std        0.178128  ...      0.107927              0.204887         0.448191   \n",
       "min        0.000000  ...      0.000000              0.000000         0.000000   \n",
       "25%        0.000000  ...      0.000000              0.000000         0.000000   \n",
       "50%        0.000000  ...      0.000000              0.000000         0.000000   \n",
       "75%        0.000000  ...      0.000000              0.000000         1.000000   \n",
       "max        1.000000  ...      1.000000              1.000000         1.000000   \n",
       "\n",
       "             floods         storm          fire    earthquake          cold  \\\n",
       "count  26216.000000  26216.000000  26216.000000  26216.000000  26216.000000   \n",
       "mean       0.082202      0.093187      0.010757      0.093645      0.020217   \n",
       "std        0.274677      0.290700      0.103158      0.291340      0.140743   \n",
       "min        0.000000      0.000000      0.000000      0.000000      0.000000   \n",
       "25%        0.000000      0.000000      0.000000      0.000000      0.000000   \n",
       "50%        0.000000      0.000000      0.000000      0.000000      0.000000   \n",
       "75%        0.000000      0.000000      0.000000      0.000000      0.000000   \n",
       "max        1.000000      1.000000      1.000000      1.000000      1.000000   \n",
       "\n",
       "       other_weather  direct_report  \n",
       "count   26216.000000   26216.000000  \n",
       "mean        0.052487       0.193584  \n",
       "std         0.223011       0.395114  \n",
       "min         0.000000       0.000000  \n",
       "25%         0.000000       0.000000  \n",
       "50%         0.000000       0.000000  \n",
       "75%         0.000000       0.000000  \n",
       "max         1.000000       1.000000  \n",
       "\n",
       "[8 rows x 37 columns]"
      ]
     },
     "execution_count": 98,
     "metadata": {},
     "output_type": "execute_result"
    }
   ],
   "source": [
    "df.describe()"
   ]
  },
  {
   "cell_type": "code",
   "execution_count": 10,
   "metadata": {},
   "outputs": [
    {
     "name": "stdout",
     "output_type": "stream",
     "text": [
      "['child_alone']\n"
     ]
    }
   ],
   "source": [
    "col_to_removed = []\n",
    "for key, value in df.describe().items():\n",
    "    if value['max']<1:\n",
    "        col_to_removed.append(key)\n",
    "print(col_to_removed)"
   ]
  },
  {
   "cell_type": "code",
   "execution_count": 12,
   "metadata": {},
   "outputs": [
    {
     "name": "stdout",
     "output_type": "stream",
     "text": [
      "(26216, 40)\n"
     ]
    },
    {
     "data": {
      "text/plain": [
       "(26216, 39)"
      ]
     },
     "execution_count": 12,
     "metadata": {},
     "output_type": "execute_result"
    }
   ],
   "source": [
    "cleaned_df = df.drop(col_to_removed, axis=1)\n",
    "print(df.shape)\n",
    "cleaned_df.shape"
   ]
  },
  {
   "cell_type": "code",
   "execution_count": 13,
   "metadata": {},
   "outputs": [],
   "source": [
    "X = cleaned_df['message']\n",
    "Y = cleaned_df.iloc[:,4:]"
   ]
  },
  {
   "cell_type": "markdown",
   "metadata": {},
   "source": [
    "### 2. Write a tokenization function to process your text data"
   ]
  },
  {
   "cell_type": "code",
   "execution_count": 99,
   "metadata": {},
   "outputs": [],
   "source": [
    "def tokenize(text, url_place_holder_string=\"urlplaceholder\"):\n",
    "    \"\"\"\n",
    "    This function is used to convert the text into a list of words\n",
    "    \n",
    "    :param text: input texts\n",
    "    :param url_place_holder_string: this word will replace the urls texts\n",
    "    \"\"\"\n",
    "     # Replace all urls with a urlplaceholder string\n",
    "    url_regex = 'http[s]?://(?:[a-zA-Z]|[0-9]|[$-_@.&+]|[!*\\(\\),]|(?:%[0-9a-fA-F][0-9a-fA-F]))+'\n",
    "    \n",
    "    # Extract all the urls from the provided text \n",
    "    detected_urls = re.findall(url_regex, text)\n",
    "    \n",
    "    # Replace url with a url placeholder string\n",
    "    for detected_url in detected_urls:\n",
    "        text = text.replace(detected_url, url_place_holder_string)\n",
    "\n",
    "    # Extract the word tokens from the provided text\n",
    "    tokens = nltk.word_tokenize(text)\n",
    "    \n",
    "    #Lemmanitizer to remove inflectional and derivationally related forms of a word\n",
    "    lemmatizer = nltk.WordNetLemmatizer()\n",
    "\n",
    "    # List of clean tokens\n",
    "    clean_tokens = [lemmatizer.lemmatize(w).lower().strip() for w in tokens]\n",
    "    return clean_tokens"
   ]
  },
  {
   "cell_type": "code",
   "execution_count": 100,
   "metadata": {},
   "outputs": [
    {
     "name": "stdout",
     "output_type": "stream",
     "text": [
      "['i', 'want', 'to', 'fly', 'in', 'the', 'air', '!']\n"
     ]
    }
   ],
   "source": [
    "temp1 = tokenize(\"I want to fly in the air!\")\n",
    "print(temp1)"
   ]
  },
  {
   "cell_type": "code",
   "execution_count": 103,
   "metadata": {},
   "outputs": [
    {
     "name": "stdout",
     "output_type": "stream",
     "text": [
      "['i', 'want', 'to', 'fly', 'in', 'urlplaceholder', '!']\n"
     ]
    }
   ],
   "source": [
    "temp1 = tokenize(\"I want to fly in https://www.163.com !\")\n",
    "print(temp1)"
   ]
  },
  {
   "cell_type": "markdown",
   "metadata": {},
   "source": [
    "### 3. Build a machine learning pipeline\n",
    "This machine pipeline should take in the `message` column as input and output classification results on the other 36 categories in the dataset. You may find the [MultiOutputClassifier](http://scikit-learn.org/stable/modules/generated/sklearn.multioutput.MultiOutputClassifier.html) helpful for predicting multiple target variables."
   ]
  },
  {
   "cell_type": "code",
   "execution_count": 105,
   "metadata": {},
   "outputs": [],
   "source": [
    "pipeline_basic = Pipeline([\n",
    "        ('features', FeatureUnion([\n",
    "            ('text_pipeline', Pipeline([\n",
    "                ('count', CountVectorizer(tokenizer=tokenize)),\n",
    "                ('tfid', TfidfTransformer())\n",
    "            ]))\n",
    "            \n",
    "        ])),\n",
    "\n",
    "        ('classifier', MultiOutputClassifier(AdaBoostClassifier()))\n",
    "    ])"
   ]
  },
  {
   "cell_type": "markdown",
   "metadata": {},
   "source": [
    "### 4. Train pipeline\n",
    "- Split data into train and test sets\n",
    "- Train pipeline"
   ]
  },
  {
   "cell_type": "code",
   "execution_count": 106,
   "metadata": {},
   "outputs": [
    {
     "data": {
      "text/plain": [
       "'Weather update - a cold front from Cuba that could pass over Haiti'"
      ]
     },
     "execution_count": 106,
     "metadata": {},
     "output_type": "execute_result"
    }
   ],
   "source": [
    "X.iloc[0]"
   ]
  },
  {
   "cell_type": "code",
   "execution_count": 108,
   "metadata": {},
   "outputs": [],
   "source": [
    "y=Y.astype('bool')"
   ]
  },
  {
   "cell_type": "code",
   "execution_count": 109,
   "metadata": {},
   "outputs": [
    {
     "data": {
      "text/plain": [
       "related                    True\n",
       "request                   False\n",
       "offer                     False\n",
       "aid_related               False\n",
       "medical_help              False\n",
       "medical_products          False\n",
       "search_and_rescue         False\n",
       "security                  False\n",
       "military                  False\n",
       "child_alone               False\n",
       "water                     False\n",
       "food                      False\n",
       "shelter                   False\n",
       "clothing                  False\n",
       "money                     False\n",
       "missing_people            False\n",
       "refugees                  False\n",
       "death                     False\n",
       "other_aid                 False\n",
       "infrastructure_related    False\n",
       "transport                 False\n",
       "buildings                 False\n",
       "electricity               False\n",
       "tools                     False\n",
       "hospitals                 False\n",
       "shops                     False\n",
       "aid_centers               False\n",
       "other_infrastructure      False\n",
       "weather_related           False\n",
       "floods                    False\n",
       "storm                     False\n",
       "fire                      False\n",
       "earthquake                False\n",
       "cold                      False\n",
       "other_weather             False\n",
       "direct_report             False\n",
       "Name: 0, dtype: bool"
      ]
     },
     "execution_count": 109,
     "metadata": {},
     "output_type": "execute_result"
    }
   ],
   "source": [
    "y.iloc[0]"
   ]
  },
  {
   "cell_type": "code",
   "execution_count": 110,
   "metadata": {},
   "outputs": [],
   "source": [
    "X_train, X_test, y_train, y_test = train_test_split(X, y, random_state=0)"
   ]
  },
  {
   "cell_type": "code",
   "execution_count": 111,
   "metadata": {},
   "outputs": [
    {
     "data": {
      "text/plain": [
       "((19662,), (19662, 36), (6554,), (6554, 36))"
      ]
     },
     "execution_count": 111,
     "metadata": {},
     "output_type": "execute_result"
    }
   ],
   "source": [
    "X_train.shape, y_train.shape, X_test.shape, y_test.shape"
   ]
  },
  {
   "cell_type": "code",
   "execution_count": 112,
   "metadata": {},
   "outputs": [],
   "source": [
    "pipeline_fitted = pipeline_basic.fit(X_train, y_train)"
   ]
  },
  {
   "cell_type": "markdown",
   "metadata": {},
   "source": [
    "### 5. Test your model\n",
    "Report the f1 score, precision and recall for each output category of the dataset. You can do this by iterating through the columns and calling sklearn's `classification_report` on each."
   ]
  },
  {
   "cell_type": "code",
   "execution_count": 113,
   "metadata": {},
   "outputs": [],
   "source": [
    "# calculate the predictions\n",
    "y_prediction_train = pipeline_fitted.predict(X_train)\n",
    "y_prediction_test = pipeline_fitted.predict(X_test)"
   ]
  },
  {
   "cell_type": "code",
   "execution_count": 116,
   "metadata": {},
   "outputs": [
    {
     "name": "stdout",
     "output_type": "stream",
     "text": [
      "(6554, 36)\n",
      "(36,)\n"
     ]
    }
   ],
   "source": [
    " \n",
    "print(y_test.values.shape)\n",
    "print(y.columns.values.shape)\n",
    " \n"
   ]
  },
  {
   "cell_type": "code",
   "execution_count": 117,
   "metadata": {},
   "outputs": [
    {
     "name": "stdout",
     "output_type": "stream",
     "text": [
      "                        precision    recall  f1-score   support\n",
      "\n",
      "               related       0.83      0.94      0.88      5025\n",
      "               request       0.78      0.54      0.64      1130\n",
      "                 offer       0.00      0.00      0.00        33\n",
      "           aid_related       0.78      0.60      0.68      2756\n",
      "          medical_help       0.63      0.28      0.39       536\n",
      "      medical_products       0.65      0.31      0.42       354\n",
      "     search_and_rescue       0.55      0.15      0.24       203\n",
      "              security       0.32      0.10      0.15       125\n",
      "              military       0.67      0.41      0.51       224\n",
      "           child_alone       0.00      0.00      0.00         0\n",
      "                 water       0.75      0.62      0.68       426\n",
      "                  food       0.82      0.68      0.74       753\n",
      "               shelter       0.80      0.52      0.63       597\n",
      "              clothing       0.79      0.37      0.50       100\n",
      "                 money       0.59      0.33      0.42       156\n",
      "        missing_people       0.63      0.26      0.37        72\n",
      "              refugees       0.60      0.24      0.34       222\n",
      "                 death       0.73      0.46      0.56       302\n",
      "             other_aid       0.57      0.18      0.27       891\n",
      "infrastructure_related       0.40      0.08      0.14       417\n",
      "             transport       0.62      0.24      0.35       314\n",
      "             buildings       0.73      0.42      0.53       334\n",
      "           electricity       0.58      0.35      0.44       132\n",
      "                 tools       0.20      0.02      0.04        46\n",
      "             hospitals       0.36      0.07      0.12        72\n",
      "                 shops       0.00      0.00      0.00        22\n",
      "           aid_centers       0.32      0.08      0.13        73\n",
      "  other_infrastructure       0.36      0.08      0.14       286\n",
      "       weather_related       0.85      0.64      0.73      1878\n",
      "                floods       0.86      0.53      0.66       563\n",
      "                 storm       0.77      0.45      0.56       620\n",
      "                  fire       0.62      0.24      0.34        84\n",
      "            earthquake       0.87      0.77      0.82       606\n",
      "                  cold       0.70      0.31      0.43       121\n",
      "         other_weather       0.43      0.11      0.17       374\n",
      "         direct_report       0.72      0.49      0.58      1283\n",
      "\n",
      "             micro avg       0.78      0.58      0.66     21130\n",
      "             macro avg       0.58      0.33      0.41     21130\n",
      "          weighted avg       0.74      0.58      0.63     21130\n",
      "           samples avg       0.64      0.50      0.52     21130\n",
      "\n"
     ]
    },
    {
     "name": "stderr",
     "output_type": "stream",
     "text": [
      "/root/miniconda3/lib/python3.6/site-packages/sklearn/metrics/_classification.py:1221: UndefinedMetricWarning: Precision and F-score are ill-defined and being set to 0.0 in labels with no predicted samples. Use `zero_division` parameter to control this behavior.\n",
      "  _warn_prf(average, modifier, msg_start, len(result))\n",
      "/root/miniconda3/lib/python3.6/site-packages/sklearn/metrics/_classification.py:1221: UndefinedMetricWarning: Recall and F-score are ill-defined and being set to 0.0 in labels with no true samples. Use `zero_division` parameter to control this behavior.\n",
      "  _warn_prf(average, modifier, msg_start, len(result))\n",
      "/root/miniconda3/lib/python3.6/site-packages/sklearn/metrics/_classification.py:1221: UndefinedMetricWarning: Precision and F-score are ill-defined and being set to 0.0 in samples with no predicted labels. Use `zero_division` parameter to control this behavior.\n",
      "  _warn_prf(average, modifier, msg_start, len(result))\n",
      "/root/miniconda3/lib/python3.6/site-packages/sklearn/metrics/_classification.py:1221: UndefinedMetricWarning: Recall and F-score are ill-defined and being set to 0.0 in samples with no true labels. Use `zero_division` parameter to control this behavior.\n",
      "  _warn_prf(average, modifier, msg_start, len(result))\n"
     ]
    }
   ],
   "source": [
    "print(classification_report(y_test.values.astype('bool'), \n",
    "                      y_prediction_test.astype('bool'), target_names=Y.columns.values))"
   ]
  },
  {
   "cell_type": "markdown",
   "metadata": {},
   "source": [
    "### 6. Improve your model\n",
    "Use grid search to find better parameters. "
   ]
  },
  {
   "cell_type": "code",
   "execution_count": 119,
   "metadata": {},
   "outputs": [
    {
     "data": {
      "text/plain": [
       "GridSearchCV(estimator=Pipeline(steps=[('features',\n",
       "                                        FeatureUnion(transformer_list=[('text_pipeline',\n",
       "                                                                        Pipeline(steps=[('count',\n",
       "                                                                                         CountVectorizer(tokenizer=<function tokenize at 0x7f1bf5cc1d90>)),\n",
       "                                                                                        ('tfid',\n",
       "                                                                                         TfidfTransformer())]))])),\n",
       "                                       ('classifier',\n",
       "                                        MultiOutputClassifier(estimator=AdaBoostClassifier()))]),\n",
       "             n_jobs=-1,\n",
       "             param_grid={'classifier__estimator__learning_rate': [0.01, 0.02,\n",
       "                                                                  0.05, 0.1,\n",
       "                                                                  0.2],\n",
       "                         'classifier__estimator__n_estimators': [10, 30, 50,\n",
       "                                                                 80]},\n",
       "             scoring='f1_micro')"
      ]
     },
     "execution_count": 119,
     "metadata": {},
     "output_type": "execute_result"
    }
   ],
   "source": [
    " \n",
    "parameters_grid = {'classifier__estimator__learning_rate': \n",
    "                    [0.01, 0.02, 0.05, 0.1, 0.2],\n",
    "                   'classifier__estimator__n_estimators': \n",
    "                    [10, 30, 50, 80]\n",
    "                  }\n",
    "cv = GridSearchCV(pipeline_basic, \n",
    "                  param_grid=parameters_grid, \n",
    "                  scoring='f1_micro', n_jobs=-1)\n",
    "cv.fit(X_train, y_train)"
   ]
  },
  {
   "cell_type": "code",
   "execution_count": 122,
   "metadata": {},
   "outputs": [
    {
     "data": {
      "text/plain": [
       "{'classifier__estimator__learning_rate': 0.2,\n",
       " 'classifier__estimator__n_estimators': 80}"
      ]
     },
     "execution_count": 122,
     "metadata": {},
     "output_type": "execute_result"
    }
   ],
   "source": [
    "cv.best_params_"
   ]
  },
  {
   "cell_type": "code",
   "execution_count": 124,
   "metadata": {},
   "outputs": [
    {
     "data": {
      "text/plain": [
       "Pipeline(steps=[('features',\n",
       "                 FeatureUnion(transformer_list=[('text_pipeline',\n",
       "                                                 Pipeline(steps=[('count',\n",
       "                                                                  CountVectorizer(tokenizer=<function tokenize at 0x7f1bf5cc1d90>)),\n",
       "                                                                 ('tfid',\n",
       "                                                                  TfidfTransformer())]))])),\n",
       "                ('classifier',\n",
       "                 MultiOutputClassifier(estimator=AdaBoostClassifier(learning_rate=0.2,\n",
       "                                                                    n_estimators=80)))])"
      ]
     },
     "execution_count": 124,
     "metadata": {},
     "output_type": "execute_result"
    }
   ],
   "source": [
    "cv.best_estimator_"
   ]
  },
  {
   "cell_type": "code",
   "execution_count": 125,
   "metadata": {},
   "outputs": [
    {
     "data": {
      "text/plain": [
       "0.629576577093133"
      ]
     },
     "execution_count": 125,
     "metadata": {},
     "output_type": "execute_result"
    }
   ],
   "source": [
    "cv.best_score_"
   ]
  },
  {
   "cell_type": "markdown",
   "metadata": {},
   "source": [
    "### 7. Test your model\n",
    "Show the accuracy, precision, and recall of the tuned model.  \n",
    "\n",
    "Since this project focuses on code quality, process, and  pipelines, there is no minimum performance metric needed to pass. However, make sure to fine tune your models for accuracy, precision and recall to make your project stand out - especially for your portfolio!"
   ]
  },
  {
   "cell_type": "code",
   "execution_count": 120,
   "metadata": {},
   "outputs": [
    {
     "name": "stdout",
     "output_type": "stream",
     "text": [
      "                        precision    recall  f1-score   support\n",
      "\n",
      "               related       0.79      0.99      0.87      5025\n",
      "               request       0.84      0.44      0.58      1130\n",
      "                 offer       0.00      0.00      0.00        33\n",
      "           aid_related       0.80      0.50      0.61      2756\n",
      "          medical_help       0.66      0.10      0.17       536\n",
      "      medical_products       0.70      0.18      0.28       354\n",
      "     search_and_rescue       0.82      0.07      0.13       203\n",
      "              security       0.50      0.01      0.02       125\n",
      "              military       0.74      0.14      0.24       224\n",
      "           child_alone       0.00      0.00      0.00         0\n",
      "                 water       0.77      0.59      0.67       426\n",
      "                  food       0.82      0.70      0.76       753\n",
      "               shelter       0.86      0.45      0.59       597\n",
      "              clothing       0.76      0.28      0.41       100\n",
      "                 money       0.71      0.11      0.19       156\n",
      "        missing_people       0.75      0.12      0.21        72\n",
      "              refugees       0.60      0.09      0.16       222\n",
      "                 death       0.75      0.24      0.37       302\n",
      "             other_aid       0.56      0.03      0.06       891\n",
      "infrastructure_related       0.27      0.01      0.02       417\n",
      "             transport       0.82      0.13      0.23       314\n",
      "             buildings       0.80      0.28      0.41       334\n",
      "           electricity       0.64      0.17      0.27       132\n",
      "                 tools       0.00      0.00      0.00        46\n",
      "             hospitals       0.75      0.04      0.08        72\n",
      "                 shops       0.00      0.00      0.00        22\n",
      "           aid_centers       0.25      0.01      0.03        73\n",
      "  other_infrastructure       0.00      0.00      0.00       286\n",
      "       weather_related       0.90      0.51      0.65      1878\n",
      "                floods       0.91      0.47      0.62       563\n",
      "                 storm       0.80      0.29      0.42       620\n",
      "                  fire       0.60      0.04      0.07        84\n",
      "            earthquake       0.89      0.77      0.82       606\n",
      "                  cold       0.83      0.17      0.28       121\n",
      "         other_weather       0.55      0.03      0.06       374\n",
      "         direct_report       0.78      0.38      0.51      1283\n",
      "\n",
      "             micro avg       0.80      0.51      0.62     21130\n",
      "             macro avg       0.62      0.23      0.30     21130\n",
      "          weighted avg       0.76      0.51      0.56     21130\n",
      "           samples avg       0.71      0.48      0.53     21130\n",
      "\n"
     ]
    },
    {
     "name": "stderr",
     "output_type": "stream",
     "text": [
      "/root/miniconda3/lib/python3.6/site-packages/sklearn/metrics/_classification.py:1221: UndefinedMetricWarning: Precision and F-score are ill-defined and being set to 0.0 in labels with no predicted samples. Use `zero_division` parameter to control this behavior.\n",
      "  _warn_prf(average, modifier, msg_start, len(result))\n",
      "/root/miniconda3/lib/python3.6/site-packages/sklearn/metrics/_classification.py:1221: UndefinedMetricWarning: Recall and F-score are ill-defined and being set to 0.0 in labels with no true samples. Use `zero_division` parameter to control this behavior.\n",
      "  _warn_prf(average, modifier, msg_start, len(result))\n",
      "/root/miniconda3/lib/python3.6/site-packages/sklearn/metrics/_classification.py:1221: UndefinedMetricWarning: Precision and F-score are ill-defined and being set to 0.0 in samples with no predicted labels. Use `zero_division` parameter to control this behavior.\n",
      "  _warn_prf(average, modifier, msg_start, len(result))\n",
      "/root/miniconda3/lib/python3.6/site-packages/sklearn/metrics/_classification.py:1221: UndefinedMetricWarning: Recall and F-score are ill-defined and being set to 0.0 in samples with no true labels. Use `zero_division` parameter to control this behavior.\n",
      "  _warn_prf(average, modifier, msg_start, len(result))\n"
     ]
    }
   ],
   "source": [
    "y_prediction_test = cv.predict(X_test)\n",
    "print(classification_report(y_test.values.astype('bool'), y_prediction_test.astype('bool'), target_names=Y.columns.values))"
   ]
  },
  {
   "cell_type": "markdown",
   "metadata": {},
   "source": [
    "### 8. Try improving your model further. Here are a few ideas:\n",
    "* try other machine learning algorithms\n",
    "* add other features besides the TF-IDF"
   ]
  },
  {
   "cell_type": "code",
   "execution_count": 126,
   "metadata": {},
   "outputs": [
    {
     "name": "stdout",
     "output_type": "stream",
     "text": [
      "                        precision    recall  f1-score   support\n",
      "\n",
      "               related       0.81      0.97      0.88      5025\n",
      "               request       0.90      0.41      0.56      1130\n",
      "                 offer       0.00      0.00      0.00        33\n",
      "           aid_related       0.80      0.60      0.69      2756\n",
      "          medical_help       0.61      0.04      0.08       536\n",
      "      medical_products       0.73      0.03      0.06       354\n",
      "     search_and_rescue       0.69      0.04      0.08       203\n",
      "              security       0.33      0.01      0.02       125\n",
      "              military       0.91      0.04      0.09       224\n",
      "           child_alone       0.00      0.00      0.00         0\n",
      "                 water       0.91      0.19      0.32       426\n",
      "                  food       0.91      0.34      0.50       753\n",
      "               shelter       0.89      0.25      0.39       597\n",
      "              clothing       0.71      0.05      0.09       100\n",
      "                 money       1.00      0.04      0.07       156\n",
      "        missing_people       0.25      0.01      0.03        72\n",
      "              refugees       0.42      0.02      0.04       222\n",
      "                 death       0.82      0.10      0.18       302\n",
      "             other_aid       0.53      0.01      0.02       891\n",
      "infrastructure_related       0.00      0.00      0.00       417\n",
      "             transport       0.62      0.05      0.09       314\n",
      "             buildings       0.85      0.08      0.15       334\n",
      "           electricity       0.83      0.04      0.07       132\n",
      "                 tools       0.00      0.00      0.00        46\n",
      "             hospitals       0.00      0.00      0.00        72\n",
      "                 shops       0.00      0.00      0.00        22\n",
      "           aid_centers       0.00      0.00      0.00        73\n",
      "  other_infrastructure       0.00      0.00      0.00       286\n",
      "       weather_related       0.88      0.58      0.70      1878\n",
      "                floods       0.92      0.31      0.46       563\n",
      "                 storm       0.83      0.39      0.53       620\n",
      "                  fire       0.00      0.00      0.00        84\n",
      "            earthquake       0.89      0.76      0.82       606\n",
      "                  cold       0.89      0.07      0.12       121\n",
      "         other_weather       0.50      0.01      0.01       374\n",
      "         direct_report       0.88      0.36      0.51      1283\n",
      "\n",
      "             micro avg       0.83      0.48      0.61     21130\n",
      "             macro avg       0.56      0.16      0.21     21130\n",
      "          weighted avg       0.77      0.48      0.52     21130\n",
      "           samples avg       0.70      0.46      0.51     21130\n",
      "\n"
     ]
    },
    {
     "name": "stderr",
     "output_type": "stream",
     "text": [
      "/root/miniconda3/lib/python3.6/site-packages/sklearn/metrics/_classification.py:1221: UndefinedMetricWarning: Precision and F-score are ill-defined and being set to 0.0 in labels with no predicted samples. Use `zero_division` parameter to control this behavior.\n",
      "  _warn_prf(average, modifier, msg_start, len(result))\n",
      "/root/miniconda3/lib/python3.6/site-packages/sklearn/metrics/_classification.py:1221: UndefinedMetricWarning: Recall and F-score are ill-defined and being set to 0.0 in labels with no true samples. Use `zero_division` parameter to control this behavior.\n",
      "  _warn_prf(average, modifier, msg_start, len(result))\n",
      "/root/miniconda3/lib/python3.6/site-packages/sklearn/metrics/_classification.py:1221: UndefinedMetricWarning: Precision and F-score are ill-defined and being set to 0.0 in samples with no predicted labels. Use `zero_division` parameter to control this behavior.\n",
      "  _warn_prf(average, modifier, msg_start, len(result))\n",
      "/root/miniconda3/lib/python3.6/site-packages/sklearn/metrics/_classification.py:1221: UndefinedMetricWarning: Recall and F-score are ill-defined and being set to 0.0 in samples with no true labels. Use `zero_division` parameter to control this behavior.\n",
      "  _warn_prf(average, modifier, msg_start, len(result))\n"
     ]
    }
   ],
   "source": [
    "pipeline_random_forest = Pipeline([\n",
    "        ('features', FeatureUnion([\n",
    "\n",
    "            ('text_pipeline', Pipeline([\n",
    "                ('count', CountVectorizer(tokenizer=tokenize)),\n",
    "                ('tfid', TfidfTransformer())\n",
    "            ])),\n",
    "        ])),\n",
    "\n",
    "        ('classifier', MultiOutputClassifier(RandomForestClassifier()))\n",
    "    ])\n",
    "\n",
    "pipeline_fitted = pipeline_random_forest.fit(X_train, y_train)\n",
    "\n",
    "#y_prediction_train = pipeline_fitted.predict(X_train)\n",
    "y_prediction_test = pipeline_fitted.predict(X_test)\n",
    "\n",
    "# Print classification report on test data\n",
    "print(classification_report(y_test.values, y_prediction_test, target_names=Y.columns.values))"
   ]
  },
  {
   "cell_type": "markdown",
   "metadata": {},
   "source": [
    "### 9. Export your model as a pickle file"
   ]
  },
  {
   "cell_type": "code",
   "execution_count": 128,
   "metadata": {},
   "outputs": [],
   "source": [
    "model_file_name ='classifier.pkl'\n",
    "with open(model_file_name, \"wb\") as f:\n",
    "    pickle.dump(pipeline_fitted, f)"
   ]
  },
  {
   "cell_type": "markdown",
   "metadata": {},
   "source": [
    "### 10. Use this notebook to complete `train.py`\n",
    "Use the template file attached in the Resources folder to write a script that runs the steps above to create a database and export a model based on a new dataset specified by the user."
   ]
  },
  {
   "cell_type": "code",
   "execution_count": null,
   "metadata": {},
   "outputs": [],
   "source": []
  }
 ],
 "metadata": {
  "kernelspec": {
   "display_name": "Python 3",
   "language": "python",
   "name": "python3"
  },
  "language_info": {
   "codemirror_mode": {
    "name": "ipython",
    "version": 3
   },
   "file_extension": ".py",
   "mimetype": "text/x-python",
   "name": "python",
   "nbconvert_exporter": "python",
   "pygments_lexer": "ipython3",
   "version": "3.6.12"
  }
 },
 "nbformat": 4,
 "nbformat_minor": 2
}
